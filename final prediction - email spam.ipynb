{
 "cells": [
  {
   "cell_type": "markdown",
   "id": "d94af964",
   "metadata": {},
   "source": [
    "# FINAL PREDICTION - EMAIL SPAM"
   ]
  },
  {
   "cell_type": "markdown",
   "id": "8ba184df",
   "metadata": {},
   "source": [
    "## Importing Libraries"
   ]
  },
  {
   "cell_type": "code",
   "execution_count": 1,
   "id": "b2642cea",
   "metadata": {},
   "outputs": [],
   "source": [
    "import joblib as jb\n",
    "encode_model=jb.load('files/train/model/train_encode_model.pkl')\n",
    "feature_selection=jb.load('files/train/model/feature_selected.pkl')\n",
    "model=jb.load('files/train/model/xgb.pkl')"
   ]
  },
  {
   "cell_type": "code",
   "execution_count": 2,
   "id": "748966f5",
   "metadata": {},
   "outputs": [],
   "source": [
    "import pandas as pd\n",
    "from sklearn.metrics import classification_report,confusion_matrix,ConfusionMatrixDisplay\n",
    "\n",
    "import warnings\n",
    "warnings.filterwarnings('ignore')"
   ]
  },
  {
   "cell_type": "code",
   "execution_count": 3,
   "id": "bcbecbdc",
   "metadata": {},
   "outputs": [],
   "source": [
    "def flow(x_path,y_path):\n",
    "    #read\n",
    "    x_test=pd.read_csv(x_path)\n",
    "    y_test=pd.read_csv(y_path)\n",
    "    \n",
    "    #encode\n",
    "    encode_data=encode_model.transform(x_test)\n",
    "    encode_data=pd.DataFrame(encode_data,columns=x_test.columns)\n",
    "    y_test=y_test.replace({'spam':0,'not spam':1})\n",
    "    \n",
    "    #feature_selection\n",
    "    feature_selected=encode_data[feature_selection]\n",
    "    \n",
    "    #predict\n",
    "    y_pred=pd.DataFrame(model.predict(feature_selected))\n",
    "    \n",
    "    #merics\n",
    "    report=classification_report(y_pred,y_test)\n",
    "    cm=confusion_matrix(y_pred,y_test)\n",
    "    disp=ConfusionMatrixDisplay(confusion_matrix=cm)\n",
    "    \n",
    "    return y_pred,report,disp"
   ]
  },
  {
   "cell_type": "code",
   "execution_count": 4,
   "id": "657a62fa",
   "metadata": {},
   "outputs": [],
   "source": [
    "y_pred,report,disp=flow('test data/x.csv','test data/y.csv')"
   ]
  },
  {
   "cell_type": "code",
   "execution_count": 5,
   "id": "906ecff3",
   "metadata": {},
   "outputs": [
    {
     "data": {
      "text/html": [
       "<div>\n",
       "<style scoped>\n",
       "    .dataframe tbody tr th:only-of-type {\n",
       "        vertical-align: middle;\n",
       "    }\n",
       "\n",
       "    .dataframe tbody tr th {\n",
       "        vertical-align: top;\n",
       "    }\n",
       "\n",
       "    .dataframe thead th {\n",
       "        text-align: right;\n",
       "    }\n",
       "</style>\n",
       "<table border=\"1\" class=\"dataframe\">\n",
       "  <thead>\n",
       "    <tr style=\"text-align: right;\">\n",
       "      <th></th>\n",
       "      <th>0</th>\n",
       "    </tr>\n",
       "  </thead>\n",
       "  <tbody>\n",
       "    <tr>\n",
       "      <th>0</th>\n",
       "      <td>1</td>\n",
       "    </tr>\n",
       "    <tr>\n",
       "      <th>1</th>\n",
       "      <td>0</td>\n",
       "    </tr>\n",
       "    <tr>\n",
       "      <th>2</th>\n",
       "      <td>1</td>\n",
       "    </tr>\n",
       "    <tr>\n",
       "      <th>3</th>\n",
       "      <td>1</td>\n",
       "    </tr>\n",
       "    <tr>\n",
       "      <th>4</th>\n",
       "      <td>1</td>\n",
       "    </tr>\n",
       "    <tr>\n",
       "      <th>5</th>\n",
       "      <td>1</td>\n",
       "    </tr>\n",
       "    <tr>\n",
       "      <th>6</th>\n",
       "      <td>1</td>\n",
       "    </tr>\n",
       "    <tr>\n",
       "      <th>7</th>\n",
       "      <td>1</td>\n",
       "    </tr>\n",
       "    <tr>\n",
       "      <th>8</th>\n",
       "      <td>1</td>\n",
       "    </tr>\n",
       "    <tr>\n",
       "      <th>9</th>\n",
       "      <td>1</td>\n",
       "    </tr>\n",
       "    <tr>\n",
       "      <th>10</th>\n",
       "      <td>1</td>\n",
       "    </tr>\n",
       "    <tr>\n",
       "      <th>11</th>\n",
       "      <td>1</td>\n",
       "    </tr>\n",
       "    <tr>\n",
       "      <th>12</th>\n",
       "      <td>1</td>\n",
       "    </tr>\n",
       "    <tr>\n",
       "      <th>13</th>\n",
       "      <td>1</td>\n",
       "    </tr>\n",
       "    <tr>\n",
       "      <th>14</th>\n",
       "      <td>1</td>\n",
       "    </tr>\n",
       "    <tr>\n",
       "      <th>15</th>\n",
       "      <td>1</td>\n",
       "    </tr>\n",
       "    <tr>\n",
       "      <th>16</th>\n",
       "      <td>1</td>\n",
       "    </tr>\n",
       "    <tr>\n",
       "      <th>17</th>\n",
       "      <td>1</td>\n",
       "    </tr>\n",
       "    <tr>\n",
       "      <th>18</th>\n",
       "      <td>1</td>\n",
       "    </tr>\n",
       "    <tr>\n",
       "      <th>19</th>\n",
       "      <td>1</td>\n",
       "    </tr>\n",
       "    <tr>\n",
       "      <th>20</th>\n",
       "      <td>1</td>\n",
       "    </tr>\n",
       "    <tr>\n",
       "      <th>21</th>\n",
       "      <td>1</td>\n",
       "    </tr>\n",
       "    <tr>\n",
       "      <th>22</th>\n",
       "      <td>1</td>\n",
       "    </tr>\n",
       "    <tr>\n",
       "      <th>23</th>\n",
       "      <td>1</td>\n",
       "    </tr>\n",
       "    <tr>\n",
       "      <th>24</th>\n",
       "      <td>1</td>\n",
       "    </tr>\n",
       "    <tr>\n",
       "      <th>25</th>\n",
       "      <td>1</td>\n",
       "    </tr>\n",
       "  </tbody>\n",
       "</table>\n",
       "</div>"
      ],
      "text/plain": [
       "    0\n",
       "0   1\n",
       "1   0\n",
       "2   1\n",
       "3   1\n",
       "4   1\n",
       "5   1\n",
       "6   1\n",
       "7   1\n",
       "8   1\n",
       "9   1\n",
       "10  1\n",
       "11  1\n",
       "12  1\n",
       "13  1\n",
       "14  1\n",
       "15  1\n",
       "16  1\n",
       "17  1\n",
       "18  1\n",
       "19  1\n",
       "20  1\n",
       "21  1\n",
       "22  1\n",
       "23  1\n",
       "24  1\n",
       "25  1"
      ]
     },
     "execution_count": 5,
     "metadata": {},
     "output_type": "execute_result"
    }
   ],
   "source": [
    "y_pred"
   ]
  },
  {
   "cell_type": "code",
   "execution_count": 6,
   "id": "b40ca23b",
   "metadata": {},
   "outputs": [
    {
     "name": "stdout",
     "output_type": "stream",
     "text": [
      "              precision    recall  f1-score   support\n",
      "\n",
      "           0       0.20      1.00      0.33         1\n",
      "           1       1.00      0.84      0.91        25\n",
      "\n",
      "    accuracy                           0.85        26\n",
      "   macro avg       0.60      0.92      0.62        26\n",
      "weighted avg       0.97      0.85      0.89        26\n",
      "\n"
     ]
    }
   ],
   "source": [
    "print(report)"
   ]
  },
  {
   "cell_type": "code",
   "execution_count": 7,
   "id": "240554f6",
   "metadata": {},
   "outputs": [
    {
     "data": {
      "text/plain": [
       "<sklearn.metrics._plot.confusion_matrix.ConfusionMatrixDisplay at 0x1be25c93a30>"
      ]
     },
     "execution_count": 7,
     "metadata": {},
     "output_type": "execute_result"
    },
    {
     "data": {
      "image/png": "[encoded data removed]",
      "text/plain": [
       "<Figure size 640x480 with 2 Axes>"
      ]
     },
     "metadata": {},
     "output_type": "display_data"
    }
   ],
   "source": [
    "disp.plot()"
   ]
  },
  {
   "cell_type": "code",
   "execution_count": null,
   "id": "9b878f76",
   "metadata": {},
   "outputs": [],
   "source": []
  }
 ],
 "metadata": {
  "kernelspec": {
   "display_name": "Python 3 (ipykernel)",
   "language": "python",
   "name": "python3"
  },
  "language_info": {
   "codemirror_mode": {
    "name": "ipython",
    "version": 3
   },
   "file_extension": ".py",
   "mimetype": "text/x-python",
   "name": "python",
   "nbconvert_exporter": "python",
   "pygments_lexer": "ipython3",
   "version": "3.10.9"
  }
 },
 "nbformat": 4,
 "nbformat_minor": 5
}
