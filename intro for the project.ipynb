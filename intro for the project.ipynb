{
 "cells": [
  {
   "cell_type": "markdown",
   "id": "7b53795f",
   "metadata": {},
   "source": [
    "# INTRO FOR THE PROJECT"
   ]
  },
  {
   "cell_type": "markdown",
   "id": "34f1a81d",
   "metadata": {},
   "source": [
    "## Objective\n",
    "- Email spam classification is a common problem in natural language processing (NLP) and machine learning. The objective of this project is to build a machine learning model that can accurately classify emails into two categories: \"spam\" or \"not spam\" "
   ]
  },
  {
   "cell_type": "markdown",
   "id": "14c65f6e",
   "metadata": {},
   "source": [
    "## Dataset Description\n",
    "- **Title** : The subject or title of the email.\n",
    "\n",
    "- **Text** : The body or content of the email.\n",
    "\n",
    "- **Type** : The target variable indicating whether the email is \"spam\" or \"not spam.\""
   ]
  },
  {
   "cell_type": "markdown",
   "id": "e054c522",
   "metadata": {},
   "source": [
    "## Step\n",
    "- Import Libraries\n",
    "- Read Data\n",
    "- Data Preprocessing\n",
    "- Feature Engineering\n",
    "- Model Training"
   ]
  },
  {
   "cell_type": "markdown",
   "id": "ea279b56",
   "metadata": {},
   "source": [
    "## Import Libraries"
   ]
  },
  {
   "cell_type": "code",
   "execution_count": 1,
   "id": "9ec3e2f9",
   "metadata": {},
   "outputs": [],
   "source": [
    "import pandas as pd\n",
    "from sklearn.model_selection import train_test_split\n",
    "\n",
    "import warnings\n",
    "warnings.filterwarnings('ignore')"
   ]
  },
  {
   "cell_type": "markdown",
   "id": "d6970d09",
   "metadata": {},
   "source": [
    "## Read Data"
   ]
  },
  {
   "cell_type": "code",
   "execution_count": 2,
   "id": "1c1bd791",
   "metadata": {},
   "outputs": [],
   "source": [
    "df=pd.read_csv('email_spam.csv')"
   ]
  },
  {
   "cell_type": "code",
   "execution_count": 3,
   "id": "e67abf86",
   "metadata": {},
   "outputs": [
    {
     "data": {
      "text/html": [
       "<div>\n",
       "<style scoped>\n",
       "    .dataframe tbody tr th:only-of-type {\n",
       "        vertical-align: middle;\n",
       "    }\n",
       "\n",
       "    .dataframe tbody tr th {\n",
       "        vertical-align: top;\n",
       "    }\n",
       "\n",
       "    .dataframe thead th {\n",
       "        text-align: right;\n",
       "    }\n",
       "</style>\n",
       "<table border=\"1\" class=\"dataframe\">\n",
       "  <thead>\n",
       "    <tr style=\"text-align: right;\">\n",
       "      <th></th>\n",
       "      <th>title</th>\n",
       "      <th>text</th>\n",
       "      <th>type</th>\n",
       "    </tr>\n",
       "  </thead>\n",
       "  <tbody>\n",
       "    <tr>\n",
       "      <th>0</th>\n",
       "      <td>?? the secrets to SUCCESS</td>\n",
       "      <td>Hi James,\\n\\nHave you claim your complimentary...</td>\n",
       "      <td>spam</td>\n",
       "    </tr>\n",
       "    <tr>\n",
       "      <th>1</th>\n",
       "      <td>?? You Earned 500 GCLoot Points</td>\n",
       "      <td>\\nalt_text\\nCongratulations, you just earned\\n...</td>\n",
       "      <td>not spam</td>\n",
       "    </tr>\n",
       "    <tr>\n",
       "      <th>2</th>\n",
       "      <td>?? Your GitHub launch code</td>\n",
       "      <td>Here's your GitHub launch code, @Mortyj420!\\n ...</td>\n",
       "      <td>not spam</td>\n",
       "    </tr>\n",
       "    <tr>\n",
       "      <th>3</th>\n",
       "      <td>[The Virtual Reward Center] Re: ** Clarifications</td>\n",
       "      <td>Hello,\\n \\nThank you for contacting the Virtua...</td>\n",
       "      <td>not spam</td>\n",
       "    </tr>\n",
       "    <tr>\n",
       "      <th>4</th>\n",
       "      <td>10-1 MLB Expert Inside, Plus Everything You Ne...</td>\n",
       "      <td>Hey Prachanda Rawal,\\n\\nToday's newsletter is ...</td>\n",
       "      <td>spam</td>\n",
       "    </tr>\n",
       "    <tr>\n",
       "      <th>...</th>\n",
       "      <td>...</td>\n",
       "      <td>...</td>\n",
       "      <td>...</td>\n",
       "    </tr>\n",
       "    <tr>\n",
       "      <th>79</th>\n",
       "      <td>Your application for the position of  Child Pr...</td>\n",
       "      <td>Dear Maryam, \\n\\n \\n\\nI would like to thank yo...</td>\n",
       "      <td>not spam</td>\n",
       "    </tr>\n",
       "    <tr>\n",
       "      <th>80</th>\n",
       "      <td>Your Kilimall Account is Ready - Shopping Now!</td>\n",
       "      <td>Dear Customer,\\n\\nWelcome to Kilimall, Thanks ...</td>\n",
       "      <td>not spam</td>\n",
       "    </tr>\n",
       "    <tr>\n",
       "      <th>81</th>\n",
       "      <td>Your Steam account: Access from new web or mob...</td>\n",
       "      <td>Dear vladis163rus,\\nHere is the Steam Guard co...</td>\n",
       "      <td>not spam</td>\n",
       "    </tr>\n",
       "    <tr>\n",
       "      <th>82</th>\n",
       "      <td>Your uploaded document is rejected</td>\n",
       "      <td>View In Browser | Log in\\n \\n \\n\\nSkrill logo\\...</td>\n",
       "      <td>not spam</td>\n",
       "    </tr>\n",
       "    <tr>\n",
       "      <th>83</th>\n",
       "      <td>You've Earned a Reward from Bard Explorers India</td>\n",
       "      <td>You've received a gift!\\nSign in to your Bard ...</td>\n",
       "      <td>not spam</td>\n",
       "    </tr>\n",
       "  </tbody>\n",
       "</table>\n",
       "<p>84 rows × 3 columns</p>\n",
       "</div>"
      ],
      "text/plain": [
       "                                                title  \\\n",
       "0                           ?? the secrets to SUCCESS   \n",
       "1                     ?? You Earned 500 GCLoot Points   \n",
       "2                          ?? Your GitHub launch code   \n",
       "3   [The Virtual Reward Center] Re: ** Clarifications   \n",
       "4   10-1 MLB Expert Inside, Plus Everything You Ne...   \n",
       "..                                                ...   \n",
       "79  Your application for the position of  Child Pr...   \n",
       "80     Your Kilimall Account is Ready - Shopping Now!   \n",
       "81  Your Steam account: Access from new web or mob...   \n",
       "82                 Your uploaded document is rejected   \n",
       "83   You've Earned a Reward from Bard Explorers India   \n",
       "\n",
       "                                                 text      type  \n",
       "0   Hi James,\\n\\nHave you claim your complimentary...      spam  \n",
       "1   \\nalt_text\\nCongratulations, you just earned\\n...  not spam  \n",
       "2   Here's your GitHub launch code, @Mortyj420!\\n ...  not spam  \n",
       "3   Hello,\\n \\nThank you for contacting the Virtua...  not spam  \n",
       "4   Hey Prachanda Rawal,\\n\\nToday's newsletter is ...      spam  \n",
       "..                                                ...       ...  \n",
       "79  Dear Maryam, \\n\\n \\n\\nI would like to thank yo...  not spam  \n",
       "80  Dear Customer,\\n\\nWelcome to Kilimall, Thanks ...  not spam  \n",
       "81  Dear vladis163rus,\\nHere is the Steam Guard co...  not spam  \n",
       "82  View In Browser | Log in\\n \\n \\n\\nSkrill logo\\...  not spam  \n",
       "83  You've received a gift!\\nSign in to your Bard ...  not spam  \n",
       "\n",
       "[84 rows x 3 columns]"
      ]
     },
     "execution_count": 3,
     "metadata": {},
     "output_type": "execute_result"
    }
   ],
   "source": [
    "df"
   ]
  },
  {
   "cell_type": "markdown",
   "id": "385b71cf",
   "metadata": {},
   "source": [
    "## Split test and train data"
   ]
  },
  {
   "cell_type": "code",
   "execution_count": 4,
   "id": "bc7e6953",
   "metadata": {},
   "outputs": [],
   "source": [
    "train,test=train_test_split(df,train_size=0.7,shuffle=True,random_state=123)"
   ]
  },
  {
   "cell_type": "code",
   "execution_count": 5,
   "id": "52b1c9a8",
   "metadata": {},
   "outputs": [],
   "source": [
    "train.to_csv('files/train/raw/train.csv',index=False)\n",
    "test.to_csv('test data/raw/test.csv',index=False)"
   ]
  },
  {
   "cell_type": "markdown",
   "id": "c20ca992",
   "metadata": {},
   "source": [
    "## Split x and y for test data"
   ]
  },
  {
   "cell_type": "code",
   "execution_count": 6,
   "id": "3cdefa0f",
   "metadata": {},
   "outputs": [],
   "source": [
    "x=test.drop('type',axis=1).copy()\n",
    "y=test['type'].copy()"
   ]
  },
  {
   "cell_type": "code",
   "execution_count": 7,
   "id": "8e30282d",
   "metadata": {},
   "outputs": [],
   "source": [
    "x.to_csv('test data/x.csv',index=False)\n",
    "y.to_csv('test data/y.csv',index=False)"
   ]
  },
  {
   "cell_type": "code",
   "execution_count": null,
   "id": "771a120e",
   "metadata": {},
   "outputs": [],
   "source": []
  }
 ],
 "metadata": {
  "kernelspec": {
   "display_name": "Python 3 (ipykernel)",
   "language": "python",
   "name": "python3"
  },
  "language_info": {
   "codemirror_mode": {
    "name": "ipython",
    "version": 3
   },
   "file_extension": ".py",
   "mimetype": "text/x-python",
   "name": "python",
   "nbconvert_exporter": "python",
   "pygments_lexer": "ipython3",
   "version": "3.10.9"
  }
 },
 "nbformat": 4,
 "nbformat_minor": 5
}
